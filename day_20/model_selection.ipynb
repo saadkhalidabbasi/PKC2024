{
 "cells": [
  {
   "cell_type": "markdown",
   "metadata": {},
   "source": [
    "# Best Model Selection"
   ]
  },
  {
   "cell_type": "code",
   "execution_count": 5,
   "metadata": {},
   "outputs": [
    {
     "name": "stderr",
     "output_type": "stream",
     "text": [
      "C:\\Users\\FATTANI COMPUTERS\\AppData\\Local\\Temp\\ipykernel_8032\\3313437436.py:14: FutureWarning: A value is trying to be set on a copy of a DataFrame or Series through chained assignment using an inplace method.\n",
      "The behavior will change in pandas 3.0. This inplace method will never work because the intermediate object on which we are setting values always behaves as a copy.\n",
      "\n",
      "For example, when doing 'df[col].method(value, inplace=True)', try using 'df.method({col: value}, inplace=True)' or df[col] = df[col].method(value) instead, to perform the operation inplace on the original object.\n",
      "\n",
      "\n",
      "  x.age.fillna(value=x['age'].mean(), inplace=True)\n"
     ]
    },
    {
     "name": "stdout",
     "output_type": "stream",
     "text": [
      "Accuracy Score Random Forest: 0.84\n",
      "Accuracy Score Logistic Regression: 0.83\n",
      "Accuracy Score Decision Tree: 0.76\n",
      "Accuracy Score K-Neighbors Classifier: 0.74\n",
      "Accuracy Score SVC: 0.66\n"
     ]
    }
   ],
   "source": [
    "# Importing Libraries\n",
    "import pandas as pd \n",
    "import numpy as np \n",
    "import seaborn as sns\n",
    "import matplotlib.pyplot as plt \n",
    "\n",
    "# Loading DataSet \n",
    "df = sns.load_dataset('titanic')\n",
    "x = df[['fare', 'sex', 'age', 'pclass', 'sibsp', 'parch']]\n",
    "y = df['survived']\n",
    "\n",
    "# Encoding categorical variable 'sex' and filling missing 'age' values\n",
    "x = pd.get_dummies(x, columns=['sex'])\n",
    "x.age.fillna(value=x['age'].mean(), inplace=True)\n",
    "\n",
    "# Importing Machine Learning Libraries\n",
    "from sklearn.tree import DecisionTreeClassifier\n",
    "from sklearn.linear_model import LogisticRegression\n",
    "from sklearn.ensemble import RandomForestClassifier\n",
    "from sklearn.neighbors import KNeighborsClassifier\n",
    "from sklearn.svm import SVC\n",
    "from sklearn.metrics import accuracy_score\n",
    "from sklearn.model_selection import train_test_split\n",
    "\n",
    "# Splitting the data\n",
    "x_train, x_test, y_train, y_test = train_test_split(x, y, train_size=0.85, random_state=42)\n",
    "\n",
    "# Defining models and their names\n",
    "models = [LogisticRegression(max_iter=1000), DecisionTreeClassifier(), RandomForestClassifier(), KNeighborsClassifier(), SVC()]\n",
    "model_names = ['Logistic Regression', 'Decision Tree', 'Random Forest', 'K-Neighbors Classifier', 'SVC']\n",
    "\n",
    "# Evaluating each model and storing their accuracy scores\n",
    "model_score = []\n",
    "for model, model_name in zip(models, model_names):\n",
    "    model.fit(x_train, y_train)\n",
    "    pred = model.predict(x_test)\n",
    "    acc = accuracy_score(y_test, pred)\n",
    "    model_score.append([model_name, acc])\n",
    "\n",
    "# Sorting models by accuracy score\n",
    "sorted_model = sorted(model_score, key=lambda x: x[1], reverse=True)\n",
    "for model in sorted_model:\n",
    "    print(f\"Accuracy Score {model[0]}: {model[1]:.2f}\")\n"
   ]
  },
  {
   "cell_type": "markdown",
   "metadata": {},
   "source": [
    "## Model Selection based on Precision Score"
   ]
  },
  {
   "cell_type": "code",
   "execution_count": 6,
   "metadata": {},
   "outputs": [
    {
     "name": "stderr",
     "output_type": "stream",
     "text": [
      "C:\\Users\\FATTANI COMPUTERS\\AppData\\Local\\Temp\\ipykernel_8032\\4130997568.py:14: FutureWarning: A value is trying to be set on a copy of a DataFrame or Series through chained assignment using an inplace method.\n",
      "The behavior will change in pandas 3.0. This inplace method will never work because the intermediate object on which we are setting values always behaves as a copy.\n",
      "\n",
      "For example, when doing 'df[col].method(value, inplace=True)', try using 'df.method({col: value}, inplace=True)' or df[col] = df[col].method(value) instead, to perform the operation inplace on the original object.\n",
      "\n",
      "\n",
      "  x.age.fillna(value=x['age'].mean(), inplace=True)\n"
     ]
    },
    {
     "name": "stdout",
     "output_type": "stream",
     "text": [
      "Precision Score : Logistic Regression: 0.80\n",
      "Precision Score : Random Forest: 0.78\n",
      "Precision Score : SVC: 0.76\n",
      "Precision Score : Decision Tree: 0.73\n",
      "Precision Score : K-Neighbors Classifier: 0.66\n"
     ]
    }
   ],
   "source": [
    "# Importing Libraries\n",
    "import pandas as pd \n",
    "import numpy as np \n",
    "import seaborn as sns\n",
    "import matplotlib.pyplot as plt \n",
    "\n",
    "# Loading DataSet \n",
    "df = sns.load_dataset('titanic')\n",
    "x = df[['fare', 'sex', 'age', 'pclass', 'sibsp', 'parch']]\n",
    "y = df['survived']\n",
    "\n",
    "# Encoding categorical variable 'sex' and filling missing 'age' values\n",
    "x = pd.get_dummies(x, columns=['sex'])\n",
    "x.age.fillna(value=x['age'].mean(), inplace=True)\n",
    "\n",
    "\n",
    "\n",
    "# Importing Machine Learning Libraries\n",
    "from sklearn.tree import DecisionTreeClassifier\n",
    "from sklearn.linear_model import LogisticRegression\n",
    "from sklearn.ensemble import RandomForestClassifier\n",
    "from sklearn.neighbors import KNeighborsClassifier\n",
    "from sklearn.svm import SVC\n",
    "from sklearn.metrics import precision_score\n",
    "from sklearn.model_selection import train_test_split\n",
    "\n",
    "# Splitting the data\n",
    "x_train, x_test, y_train, y_test = train_test_split(x, y, train_size=0.8, random_state=42)\n",
    "\n",
    "# Defining models and their names\n",
    "models = [LogisticRegression(max_iter=1000), DecisionTreeClassifier(), RandomForestClassifier(), KNeighborsClassifier(), SVC()]\n",
    "model_names = ['Logistic Regression', 'Decision Tree', 'Random Forest', 'K-Neighbors Classifier', 'SVC']\n",
    "\n",
    "# Evaluating each model and storing their accuracy scores\n",
    "model_score = []\n",
    "for model, model_name in zip(models, model_names):\n",
    "    model.fit(x_train, y_train)\n",
    "    pred = model.predict(x_test)\n",
    "    acc = precision_score(y_test, pred)\n",
    "    model_score.append([model_name, acc])\n",
    "\n",
    "# Sorting models by accuracy score\n",
    "sorted_model = sorted(model_score, key=lambda x: x[1], reverse=True)\n",
    "for model in sorted_model:\n",
    "    print(f\"Precision Score : {model[0]}: {model[1]:.2f}\")\n"
   ]
  },
  {
   "cell_type": "markdown",
   "metadata": {},
   "source": [
    "## Model Selection using F1 Score"
   ]
  },
  {
   "cell_type": "code",
   "execution_count": 7,
   "metadata": {},
   "outputs": [
    {
     "name": "stderr",
     "output_type": "stream",
     "text": [
      "C:\\Users\\FATTANI COMPUTERS\\AppData\\Local\\Temp\\ipykernel_8032\\594806315.py:14: FutureWarning: A value is trying to be set on a copy of a DataFrame or Series through chained assignment using an inplace method.\n",
      "The behavior will change in pandas 3.0. This inplace method will never work because the intermediate object on which we are setting values always behaves as a copy.\n",
      "\n",
      "For example, when doing 'df[col].method(value, inplace=True)', try using 'df.method({col: value}, inplace=True)' or df[col] = df[col].method(value) instead, to perform the operation inplace on the original object.\n",
      "\n",
      "\n",
      "  x.age.fillna(value=x['age'].mean(), inplace=True)\n"
     ]
    },
    {
     "name": "stdout",
     "output_type": "stream",
     "text": [
      "F1 Score : Logistic Regression: 0.76\n",
      "F1 Score : Random Forest: 0.75\n",
      "F1 Score : Decision Tree: 0.70\n",
      "F1 Score : K-Neighbors Classifier: 0.59\n",
      "F1 Score : SVC: 0.38\n"
     ]
    }
   ],
   "source": [
    "# Importing Libraries\n",
    "import pandas as pd \n",
    "import numpy as np \n",
    "import seaborn as sns\n",
    "import matplotlib.pyplot as plt \n",
    "\n",
    "# Loading DataSet \n",
    "df = sns.load_dataset('titanic')\n",
    "x = df[['fare', 'sex', 'age', 'pclass', 'sibsp', 'parch']]\n",
    "y = df['survived']\n",
    "\n",
    "# Encoding categorical variable 'sex' and filling missing 'age' values\n",
    "x = pd.get_dummies(x, columns=['sex'])\n",
    "x.age.fillna(value=x['age'].mean(), inplace=True)\n",
    "\n",
    "\n",
    "\n",
    "# Importing Machine Learning Libraries\n",
    "from sklearn.tree import DecisionTreeClassifier\n",
    "from sklearn.linear_model import LogisticRegression\n",
    "from sklearn.ensemble import RandomForestClassifier\n",
    "from sklearn.neighbors import KNeighborsClassifier\n",
    "from sklearn.svm import SVC\n",
    "from sklearn.metrics import f1_score\n",
    "from sklearn.model_selection import train_test_split\n",
    "\n",
    "# Splitting the data\n",
    "x_train, x_test, y_train, y_test = train_test_split(x, y, train_size=0.8, random_state=42)\n",
    "\n",
    "# Defining models and their names\n",
    "models = [LogisticRegression(max_iter=1000), DecisionTreeClassifier(), RandomForestClassifier(), KNeighborsClassifier(), SVC()]\n",
    "model_names = ['Logistic Regression', 'Decision Tree', 'Random Forest', 'K-Neighbors Classifier', 'SVC']\n",
    "\n",
    "# Evaluating each model and storing their accuracy scores\n",
    "model_score = []\n",
    "for model, model_name in zip(models, model_names):\n",
    "    model.fit(x_train, y_train)\n",
    "    pred = model.predict(x_test)\n",
    "    f_one = f1_score(y_test, pred)\n",
    "    model_score.append([model_name, f_one])\n",
    "\n",
    "# Sorting models by accuracy score\n",
    "sorted_model = sorted(model_score, key=lambda x: x[1], reverse=True)\n",
    "for model in sorted_model:\n",
    "    print(f\"F1 Score : {model[0]}: {model[1]:.2f}\")\n"
   ]
  }
 ],
 "metadata": {
  "kernelspec": {
   "display_name": "Python 3",
   "language": "python",
   "name": "python3"
  },
  "language_info": {
   "codemirror_mode": {
    "name": "ipython",
    "version": 3
   },
   "file_extension": ".py",
   "mimetype": "text/x-python",
   "name": "python",
   "nbconvert_exporter": "python",
   "pygments_lexer": "ipython3",
   "version": "3.12.2"
  }
 },
 "nbformat": 4,
 "nbformat_minor": 2
}
