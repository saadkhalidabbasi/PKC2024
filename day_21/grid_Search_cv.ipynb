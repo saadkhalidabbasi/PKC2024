{
 "cells": [
  {
   "cell_type": "markdown",
   "metadata": {},
   "source": [
    "## Parameter for Linear Regression"
   ]
  },
  {
   "cell_type": "code",
   "execution_count": 2,
   "metadata": {},
   "outputs": [
    {
     "name": "stdout",
     "output_type": "stream",
     "text": [
      "{'copy_X': True, 'fit_intercept': True, 'n_jobs': None, 'positive': False}\n"
     ]
    }
   ],
   "source": [
    "# Importing Libraries \n",
    "from sklearn.linear_model import LinearRegression\n",
    "\n",
    "# Creating a Model \n",
    "model=LinearRegression()\n",
    "\n",
    "# Get the parameter List for Model\n",
    "print(model.get_params())"
   ]
  },
  {
   "cell_type": "markdown",
   "metadata": {},
   "source": [
    "## Parameter for Random Forest Classifier"
   ]
  },
  {
   "cell_type": "code",
   "execution_count": 4,
   "metadata": {},
   "outputs": [
    {
     "name": "stdout",
     "output_type": "stream",
     "text": [
      "{'bootstrap': True, 'ccp_alpha': 0.0, 'class_weight': None, 'criterion': 'gini', 'max_depth': None, 'max_features': 'sqrt', 'max_leaf_nodes': None, 'max_samples': None, 'min_impurity_decrease': 0.0, 'min_samples_leaf': 1, 'min_samples_split': 2, 'min_weight_fraction_leaf': 0.0, 'monotonic_cst': None, 'n_estimators': 100, 'n_jobs': None, 'oob_score': False, 'random_state': None, 'verbose': 0, 'warm_start': False}\n"
     ]
    }
   ],
   "source": [
    "# Importing Libraries \n",
    "from sklearn.ensemble import RandomForestClassifier\n",
    "\n",
    "# Creating a Model \n",
    "model=RandomForestClassifier()\n",
    "\n",
    "# Get the parameter List for Model\n",
    "print(model.get_params())"
   ]
  },
  {
   "cell_type": "markdown",
   "metadata": {},
   "source": [
    "## Parameter for Decision Tree Classifier"
   ]
  },
  {
   "cell_type": "code",
   "execution_count": 5,
   "metadata": {},
   "outputs": [
    {
     "name": "stdout",
     "output_type": "stream",
     "text": [
      "{'ccp_alpha': 0.0, 'class_weight': None, 'criterion': 'gini', 'max_depth': None, 'max_features': None, 'max_leaf_nodes': None, 'min_impurity_decrease': 0.0, 'min_samples_leaf': 1, 'min_samples_split': 2, 'min_weight_fraction_leaf': 0.0, 'monotonic_cst': None, 'random_state': None, 'splitter': 'best'}\n"
     ]
    }
   ],
   "source": [
    "# Importing Libraries \n",
    "from sklearn.tree import DecisionTreeClassifier\n",
    "\n",
    "# Creating a Model \n",
    "model=DecisionTreeClassifier()\n",
    "\n",
    "# Get the parameter List for Model\n",
    "print(model.get_params())"
   ]
  },
  {
   "cell_type": "markdown",
   "metadata": {},
   "source": [
    "## Parameter for KNeighbour\n"
   ]
  },
  {
   "cell_type": "code",
   "execution_count": 6,
   "metadata": {},
   "outputs": [
    {
     "name": "stdout",
     "output_type": "stream",
     "text": [
      "{'algorithm': 'auto', 'leaf_size': 30, 'metric': 'minkowski', 'metric_params': None, 'n_jobs': None, 'n_neighbors': 5, 'p': 2, 'weights': 'uniform'}\n"
     ]
    }
   ],
   "source": [
    "# Importing Libraries \n",
    "from sklearn.neighbors import KNeighborsClassifier\n",
    "\n",
    "# Creating a Model \n",
    "model=KNeighborsClassifier()\n",
    "\n",
    "# Get the parameter List for Model\n",
    "print(model.get_params())"
   ]
  },
  {
   "cell_type": "markdown",
   "metadata": {},
   "source": [
    "## Parameter For SVM\n",
    "\n"
   ]
  },
  {
   "cell_type": "code",
   "execution_count": 8,
   "metadata": {},
   "outputs": [
    {
     "name": "stdout",
     "output_type": "stream",
     "text": [
      "{'C': 1.0, 'break_ties': False, 'cache_size': 200, 'class_weight': None, 'coef0': 0.0, 'decision_function_shape': 'ovr', 'degree': 3, 'gamma': 'scale', 'kernel': 'rbf', 'max_iter': -1, 'probability': False, 'random_state': None, 'shrinking': True, 'tol': 0.001, 'verbose': False}\n"
     ]
    }
   ],
   "source": [
    "# Importing Libraries\n",
    "# Importing Libraries \n",
    "from sklearn.svm import SVC\n",
    "\n",
    "# Creating a Model \n",
    "model=SVC()\n",
    "\n",
    "# Get the parameter List for Model\n",
    "print(model.get_params())"
   ]
  },
  {
   "cell_type": "code",
   "execution_count": 18,
   "metadata": {},
   "outputs": [
    {
     "name": "stderr",
     "output_type": "stream",
     "text": [
      "C:\\Users\\FATTANI COMPUTERS\\AppData\\Local\\Temp\\ipykernel_18956\\1259239662.py:9: FutureWarning: A value is trying to be set on a copy of a DataFrame or Series through chained assignment using an inplace method.\n",
      "The behavior will change in pandas 3.0. This inplace method will never work because the intermediate object on which we are setting values always behaves as a copy.\n",
      "\n",
      "For example, when doing 'df[col].method(value, inplace=True)', try using 'df.method({col: value}, inplace=True)' or df[col] = df[col].method(value) instead, to perform the operation inplace on the original object.\n",
      "\n",
      "\n",
      "  x.age.fillna(value=x['age'].mean(), inplace=True)\n",
      "C:\\Users\\FATTANI COMPUTERS\\AppData\\Local\\Temp\\ipykernel_18956\\1259239662.py:9: SettingWithCopyWarning: \n",
      "A value is trying to be set on a copy of a slice from a DataFrame\n",
      "\n",
      "See the caveats in the documentation: https://pandas.pydata.org/pandas-docs/stable/user_guide/indexing.html#returning-a-view-versus-a-copy\n",
      "  x.age.fillna(value=x['age'].mean(), inplace=True)\n"
     ]
    },
    {
     "name": "stdout",
     "output_type": "stream",
     "text": [
      "Best Parameters are:  {'fit_intercept': True}\n"
     ]
    }
   ],
   "source": [
    "# Linear Regression \n",
    "import pandas as pd \n",
    "import seaborn as sns \n",
    "df=sns.load_dataset('titanic')\n",
    "\n",
    "# Making X and Y \n",
    "x=df[['age']]\n",
    "y=df['fare']\n",
    "x.age.fillna(value=x['age'].mean(), inplace=True)\n",
    "\n",
    "from sklearn.linear_model import LinearRegression\n",
    "model=LinearRegression()\n",
    "from sklearn.model_selection import GridSearchCV\n",
    "# define a parametric Grid \n",
    "param_cv={'fit_intercept': [True,False]}\n",
    "# object grid search cv \n",
    "grid_search=GridSearchCV(model,param_cv,cv=5,scoring='r2')\n",
    "grid_search.fit(x,y)\n",
    "\n",
    "print('Best Parameters are: ',grid_search.best_params_)\n",
    "\n",
    "\n"
   ]
  },
  {
   "cell_type": "code",
   "execution_count": 51,
   "metadata": {},
   "outputs": [
    {
     "name": "stdout",
     "output_type": "stream",
     "text": [
      "Best Parameters are:  {'n_neighbors': 37, 'weights': 'distance'}\n",
      "Best Score: 72.84978971815957\n"
     ]
    }
   ],
   "source": [
    "# Knn Neighbours CV\n",
    "import pandas as pd \n",
    "import seaborn as sns \n",
    "df=sns.load_dataset('titanic')\n",
    "df['age']=df['age'].fillna(df['age'].mean())\n",
    "\n",
    "# Making X and Y \n",
    "x=df[['age','fare','pclass','parch','sex','sibsp']]\n",
    "y=df['survived']\n",
    "\n",
    "\n",
    "x=pd.get_dummies(x,columns=['sex'])\n",
    "\n",
    "from sklearn.neighbors import KNeighborsClassifier\n",
    "model=KNeighborsClassifier()\n",
    "from sklearn.model_selection import GridSearchCV\n",
    "# define a parametric Grid \n",
    "# param_cv={'n_neighbors': [5,7],'weights':['uniform','distance']}\n",
    "import numpy as np \n",
    "param_cv={'n_neighbors':np.arange(1,40,2),'weights':['uniform','distance']}\n",
    "\n",
    "# object grid search cv \n",
    "grid_search=GridSearchCV(model,param_cv,cv=5,scoring='accuracy')\n",
    "grid_search.fit(x,y)\n",
    "\n",
    "print('Best Parameters are: ',grid_search.best_params_)\n",
    "print(\"Best Score:\",grid_search.best_score_*100)"
   ]
  },
  {
   "cell_type": "code",
   "execution_count": 53,
   "metadata": {},
   "outputs": [
    {
     "name": "stdout",
     "output_type": "stream",
     "text": [
      "Best Parameters are:  {'max_depth': 5, 'min_samples_split': 2}\n",
      "Best Score: 81.93082669010107\n"
     ]
    }
   ],
   "source": [
    "# Decision Tree CV\n",
    "\n",
    "import pandas as pd \n",
    "import seaborn as sns \n",
    "df=sns.load_dataset('titanic')\n",
    "df['age']=df['age'].fillna(df['age'].mean())\n",
    "\n",
    "# Making X and Y \n",
    "x=df[['age','fare','pclass','parch','sex','sibsp']]\n",
    "y=df['survived']\n",
    "\n",
    "\n",
    "x=pd.get_dummies(x,columns=['sex'])\n",
    "\n",
    "from sklearn.tree import DecisionTreeClassifier\n",
    "model=DecisionTreeClassifier()\n",
    "from sklearn.model_selection import GridSearchCV\n",
    "# define a parametric Grid \n",
    "# param_cv={'n_neighbors': [5,7],'weights':['uniform','distance']}\n",
    "param_cv={ 'max_depth':[3,5,7,None],'min_samples_split':[ 2,3,4]}\n",
    "\n",
    "\n",
    "# object grid search cv \n",
    "grid_search=GridSearchCV(model,param_cv,cv=5,scoring='accuracy')\n",
    "grid_search.fit(x,y)\n",
    "\n",
    "print('Best Parameters are: ',grid_search.best_params_)\n",
    "print(\"Best Score:\",grid_search.best_score_*100)"
   ]
  },
  {
   "cell_type": "code",
   "execution_count": 58,
   "metadata": {},
   "outputs": [
    {
     "name": "stdout",
     "output_type": "stream",
     "text": [
      "Best Parameters are:  {'max_depth': 7, 'max_features': 'sqrt', 'min_samples_split': 4, 'n_estimators': 10}\n",
      "Best Score: 83.05504990270542\n"
     ]
    }
   ],
   "source": [
    "# Random Forest CV\n",
    "\n",
    "import pandas as pd \n",
    "import seaborn as sns \n",
    "df=sns.load_dataset('titanic')\n",
    "df['age']=df['age'].fillna(df['age'].mean())\n",
    "\n",
    "# Making X and Y \n",
    "x=df[['age','fare','pclass','parch','sex','sibsp']]\n",
    "y=df['survived']\n",
    "\n",
    "\n",
    "x=pd.get_dummies(x,columns=['sex'])\n",
    "\n",
    "from sklearn.ensemble import RandomForestClassifier\n",
    "model=RandomForestClassifier()\n",
    "from sklearn.model_selection import GridSearchCV\n",
    "# define a parametric Grid \n",
    "\n",
    "param_cv={'n_estimators':[10,50 ,100],\n",
    "          'min_samples_split':[2,3,4],\n",
    "          'max_depth':[3,5,7, None], \n",
    "          'max_features': ['log2','sqrt']}\n",
    "\n",
    "\n",
    "\n",
    "# object grid search cv \n",
    "grid_search=GridSearchCV(model,param_cv,cv=5,scoring='accuracy')\n",
    "grid_search.fit(x,y)\n",
    "\n",
    "print('Best Parameters are: ',grid_search.best_params_)\n",
    "print(\"Best Score:\",grid_search.best_score_*100)"
   ]
  }
 ],
 "metadata": {
  "kernelspec": {
   "display_name": "Python 3",
   "language": "python",
   "name": "python3"
  },
  "language_info": {
   "codemirror_mode": {
    "name": "ipython",
    "version": 3
   },
   "file_extension": ".py",
   "mimetype": "text/x-python",
   "name": "python",
   "nbconvert_exporter": "python",
   "pygments_lexer": "ipython3",
   "version": "3.12.2"
  }
 },
 "nbformat": 4,
 "nbformat_minor": 2
}
